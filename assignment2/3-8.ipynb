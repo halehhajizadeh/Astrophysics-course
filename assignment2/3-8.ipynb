{
 "cells": [
  {
   "cell_type": "code",
   "execution_count": 1,
   "metadata": {},
   "outputs": [],
   "source": [
    "import numpy as np\n",
    "import matplotlib.pylab as plt\n",
    "from scipy import integrate"
   ]
  },
  {
   "cell_type": "code",
   "execution_count": 2,
   "metadata": {},
   "outputs": [],
   "source": [
    "h = 6.63*10**(-27)\n",
    "c = 3*10**8\n",
    "k = 1.38*10**(-16)"
   ]
  },
  {
   "cell_type": "code",
   "execution_count": 3,
   "metadata": {},
   "outputs": [],
   "source": [
    "#1 eV\tC erg\n",
    "# sun radius = 7*10e8 m"
   ]
  },
  {
   "cell_type": "code",
   "execution_count": 4,
   "metadata": {},
   "outputs": [],
   "source": [
    "T = [35000,21000,13500,9700,8100,7200,6500,6000,5400,4700,4000,3300,2600]"
   ]
  },
  {
   "cell_type": "code",
   "execution_count": 5,
   "metadata": {},
   "outputs": [],
   "source": [
    "R_Rsun = [17.8,7.6,4,2.6,1.8,1.4,1.2,1.05,0.93,0.85,0.74,0.63,0.32]"
   ]
  },
  {
   "cell_type": "code",
   "execution_count": 6,
   "metadata": {},
   "outputs": [],
   "source": [
    "T = np.array(T)\n",
    "R_Rsun = np.array(R_Rsun)"
   ]
  },
  {
   "cell_type": "code",
   "execution_count": 7,
   "metadata": {},
   "outputs": [],
   "source": [
    "R = R_Rsun*6.9*10e8"
   ]
  },
  {
   "cell_type": "code",
   "execution_count": 8,
   "metadata": {},
   "outputs": [
    {
     "data": {
      "text/plain": [
       "array([1.2282e+11, 5.2440e+10, 2.7600e+10, 1.7940e+10, 1.2420e+10,\n",
       "       9.6600e+09, 8.2800e+09, 7.2450e+09, 6.4170e+09, 5.8650e+09,\n",
       "       5.1060e+09, 4.3470e+09, 2.2080e+09])"
      ]
     },
     "execution_count": 8,
     "metadata": {},
     "output_type": "execute_result"
    }
   ],
   "source": [
    "R"
   ]
  },
  {
   "cell_type": "code",
   "execution_count": 9,
   "metadata": {},
   "outputs": [],
   "source": [
    "nu_min = (13.6*1.60217733e-12)/h"
   ]
  },
  {
   "cell_type": "code",
   "execution_count": 10,
   "metadata": {},
   "outputs": [
    {
     "data": {
      "text/plain": [
       "3286517599999999.5"
      ]
     },
     "execution_count": 10,
     "metadata": {},
     "output_type": "execute_result"
    }
   ],
   "source": [
    "nu_min"
   ]
  },
  {
   "cell_type": "code",
   "execution_count": 11,
   "metadata": {},
   "outputs": [
    {
     "name": "stdout",
     "output_type": "stream",
     "text": [
      "n for T =  35000 is: 5.637864471812454e+50\n",
      "n for T =  21000 is: 1.1858757820996185e+49\n",
      "n for T =  13500 is: 1.1108021052075254e+47\n",
      "n for T =  9700 is: 8.87096670358242e+44\n",
      "n for T =  8100 is: 2.398639559591381e+43\n",
      "n for T =  7200 is: 1.5878963872269507e+42\n",
      "n for T =  6500 is: 1.3373892932134e+41\n",
      "n for T =  6000 is: 1.5772889431261938e+40\n",
      "n for T =  5400 is: 8.144150707462141e+38\n",
      "n for T =  4700 is: 1.143307168888963e+37\n",
      "n for T =  4000 is: 3.3171085351133567e+34\n",
      "n for T =  3300 is: 8.08653398541487e+30\n",
      "n for T =  2600 is: 8.473448931567417e+24\n"
     ]
    },
    {
     "name": "stderr",
     "output_type": "stream",
     "text": [
      "/home/samsung/.local/lib/python3.7/site-packages/ipykernel_launcher.py:4: RuntimeWarning: overflow encountered in exp\n",
      "  after removing the cwd from sys.path.\n"
     ]
    }
   ],
   "source": [
    "# n = []\n",
    "for i in range(len(T)):\n",
    "    x_min = h*nu_min/(k*T[i]) \n",
    "    invexp = lambda x: x**2/(np.exp(x)-1)\n",
    "    integral = integrate.quad(invexp, x_min, np.inf)\n",
    "    n = 2*((k*T[0])**3)/((h**3)*(c**2)) * integral[0]*4*np.pi*(R[i]**2)\n",
    "    print('n for T = ',str(T[i]),'is:',n)"
   ]
  },
  {
   "cell_type": "code",
   "execution_count": null,
   "metadata": {},
   "outputs": [],
   "source": []
  }
 ],
 "metadata": {
  "kernelspec": {
   "display_name": "Python 3",
   "language": "python",
   "name": "python3"
  },
  "language_info": {
   "codemirror_mode": {
    "name": "ipython",
    "version": 3
   },
   "file_extension": ".py",
   "mimetype": "text/x-python",
   "name": "python",
   "nbconvert_exporter": "python",
   "pygments_lexer": "ipython3",
   "version": "3.7.3"
  }
 },
 "nbformat": 4,
 "nbformat_minor": 2
}
